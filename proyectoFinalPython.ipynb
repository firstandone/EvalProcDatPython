{
  "nbformat": 4,
  "nbformat_minor": 0,
  "metadata": {
    "colab": {
      "provenance": [],
      "mount_file_id": "14PtXWvuZo537hpBEzwFp0KhgEz7len7R",
      "authorship_tag": "ABX9TyOWu2Tq2yco25OeImYDje3d",
      "include_colab_link": true
    },
    "kernelspec": {
      "name": "python3",
      "display_name": "Python 3"
    },
    "language_info": {
      "name": "python"
    }
  },
  "cells": [
    {
      "cell_type": "markdown",
      "metadata": {
        "id": "view-in-github",
        "colab_type": "text"
      },
      "source": [
        "<a href=\"https://colab.research.google.com/github/firstandone/EvalProcDatPython/blob/main/proyectoFinalPython.ipynb\" target=\"_parent\"><img src=\"https://colab.research.google.com/assets/colab-badge.svg\" alt=\"Open In Colab\"/></a>"
      ]
    },
    {
      "cell_type": "markdown",
      "source": [
        "**RESUMEN**"
      ],
      "metadata": {
        "id": "RBgLeXcqH81h"
      }
    },
    {
      "cell_type": "markdown",
      "source": [
        "El infonavit suspendio la modalidad de crédito \"Hipoteca Verde\" para la adquisición de ecotecnologias.\n",
        "La empresa objeto de este estudio fue proveedora de productos de ecotecnologias quedando sin poder vender los diferentes productos de ecotecnologias.<br>\n",
        "Bajando sus facturación y ventas a casi cero.<br>\n",
        "Los retos a resolver por data science son dos, por encargo del dueño de esta empresa proveedora:<br>\n",
        "a.-) Modelar si es viable seguir operando el negocio, sin depender de los ingresos que provenian de este programa de gobierno.<br>\n",
        "b.-) Es viable transformar la empresa de proveedor de gobierno, a empresa de \"soluciones sustentables para el hogar\"\n",
        "<br>\n",
        "\n",
        "Para poder modelar la solución sólo se tiene:<br>\n",
        "1.- La base de datos de prospectación, que hacia llegar el infonavit, \"EN LOTES \n",
        "    SIN NINGUN TIPO DE CLASIFICACIÓN, VERIFICACIÓN\",  dividida por estado de la \n",
        "    república.<br>\n",
        "2.- El call-center opera con 5 agentes de ventas.<br>\n",
        "3.- No se tiene acceso a historico de ventas, productos vendidos, se trata de   \n",
        "    transformar en un nuevo negocio partiendo de cero.<br>\n",
        "\n",
        "Estos datos los envia infonavit en formato CSV separados por estado de la república mexicana y cada archivo viene con 37 campos y un archivo que describe cada campo., con los datos generales de cada contacto:<br>\n",
        "\"NOMBRE DE LA COLUMNA\" \"DESCRIPCIÓN\" <br>\n",
        "DEL ->            DELEGACION INFONAVIT. <br>\n",
        "\"# CTAS ->         NÚMERO DE CUENTA INFONAVIT. <br>\n",
        "NOMBRE ->          NOMBRE DEL TITULAR DE LA CUENTA.<br>\n",
        "F_OTORG ->        FECHA DE OTORGAMIENTO DE CRÉDITO. <br>\n",
        "CALLE ->           CALLE REGISTRADA CREDITO VIVIENDA INFONAVIT. <br>\n",
        "COL ->             COLONIA REGISTRADA CREDITO VIVIEND INFONAVIT. <br>\n",
        "MUN ->             MUNICIPO REGISTRADO CREDITO VIVIENDA INFONAVIT. <br>\n",
        "CP ->              CP REGISTRADO CREDITO VIVIENDA INFONAVIT. <br>\n",
        "CALLE_ALT ->       CALLE ALTERNA, DOMICILIO OPCIONAL. <br>\n",
        "COL_ALT ->         COLONIA ALTERNA, DOMICILIO OPCIONAL. <br>\n",
        "MUN_ALT ->         MUNICIPIO ALTERNO, DOMICILIO OPCIONAL. <br>\n",
        "CP_ALT ->          CODIGO POSTAL ALTERNO, DOMICILIO OPCIONAL. <br>\n",
        "STAT ->            USO INTERNO INFONAVIT. <br>\n",
        "MES_SINPAG ->      USO INTERNO INFONAVIT. <br>\n",
        "ADI_ECOTEC ->      MONTO DE CREDITO AUTORIZADO EN PESOS. <br>\n",
        "TOT_ECOELE ->     MONTO TOTAL DE CREDITO AUTORIZADO EN PESOS. <br>\n",
        "TOT_INSELE ->      USO INTERNO INFONAVIT. <br>\n",
        "AHO_OBLIG ->       USO INTERNO INFONAVIT. <br>\n",
        "AHO_ELEG ->        USO INTERNO INFONAVIT. <br>\n",
        "REAL_ECOTE ->      USO INTERNO INFONAVIT. <br>\n",
        "TX_LADA ->         CLAVE LADA MARCACIÓN TELEFONO FIJO.<br> \n",
        "TX_TELEFON ->      NÚMERO DE TELEFONO DE CONTACTO REGISTRADO EN INFONAVIT. <br>\n",
        "TEL_01 ->          NUMERO DE TELEFONO OPCIONAL. <br>\n",
        "TEL_02 ->          NUMERO DE TELEFONO OPCIONAL. <br>\n",
        "TEL_03 ->          NUMERO DE TELEFONO OPCIONAL. <br>\n",
        "TEL_04 ->          NUMERO DE TELEFONO OPCIONAL. <br>\n",
        "TEL_05 ->          NUMERO DE TELEFONO OPCIONAL. <br>\n",
        "TEL_06 ->          NUMERO DE TELEFONO OPCIONAL. <br>\n",
        "TEL_ORIG ->        NUMERO DE TELEFONO OPCIONAL. <br>\n",
        "TEL_ACT ->         NUMERO DE TELEFONO ORIGINAL REGISTRADO EN INFONAVIT (OPCIONAL). <br>\n",
        "CEL_ORIG ->        NUMERO DE TELEFONO CELULAR ORIGINAL (OPCIONAL). <br>\n",
        "CEL_ACT ->         NUMERO DE TELEFONO CELULAR ACTUALIZADO (OPCIONAL). <br>\n",
        "TRAB_ACT ->        NUMERO DE TELEFONO CENTRO DE TRABAJO. <br>\n",
        "CEL_ARC ->         USO INTERNO INFONAVIT. <br>\n",
        "CONCEPTO ->        TIPO DE CREDITO. <br>\n",
        "TX_DEL ->          USO INTERNO. <br>\n",
        "TX_DELCORT ->      USO INTERNO. <br>\n",
        "\n",
        "\n",
        "\n",
        "\n",
        "-Monto autorizado para consumo de productos de ecotecnologias.<br>\n",
        "\n",
        "\n",
        "\n",
        "\n",
        "\n",
        "1.-Considerar la base actual de clientes potenciales establecidos en la cartera\n",
        "2.-Considerar paquetes o productos en función de los creditos preasignados,\n",
        "3.-Predecir en función de la zona geografica y de las variables de clima, y de consumo de la zona, estimación de gasto en ecotecnologias.\n",
        "4.-Pronosticar un estimado de gasto en función del nivel de ingresos, y modelar tres posibles escenarios de gasto total, a.-)Sueldo minimo b.-)Dos sueldos Minimos c.-)Tres sueldos minimos.\n"
      ],
      "metadata": {
        "id": "nlMkTbhcJZZg"
      }
    },
    {
      "cell_type": "markdown",
      "source": [
        "**INTRODUCCIÓN Y METODOLOGÍA**"
      ],
      "metadata": {
        "id": "QrXePgXNbFEh"
      }
    },
    {
      "cell_type": "code",
      "source": [],
      "metadata": {
        "id": "4UdfuIpKJYi-"
      },
      "execution_count": null,
      "outputs": []
    },
    {
      "cell_type": "code",
      "source": [],
      "metadata": {
        "id": "pwlc5HPU7dwa"
      },
      "execution_count": null,
      "outputs": []
    },
    {
      "cell_type": "code",
      "source": [
        "from google.colab import files"
      ],
      "metadata": {
        "id": "l1ZX9Gc7GzGq"
      },
      "execution_count": null,
      "outputs": []
    },
    {
      "cell_type": "code",
      "source": [
        "df = pd.read_excel(\"https://inmobiliariavilla.com.mx/wp-content/uploads/2023/02/libro_principal.xlsx\", sheet_name=\"EDODEMEX\")\n",
        "df.shape"
      ],
      "metadata": {
        "colab": {
          "base_uri": "https://localhost:8080/"
        },
        "id": "P_EcLTza7upP",
        "outputId": "c49eb1ba-174f-4a84-cc60-4b252d9535f7"
      },
      "execution_count": null,
      "outputs": [
        {
          "output_type": "execute_result",
          "data": {
            "text/plain": [
              "(20162, 37)"
            ]
          },
          "metadata": {},
          "execution_count": 31
        }
      ]
    },
    {
      "cell_type": "code",
      "execution_count": null,
      "metadata": {
        "id": "_3HXug5s6ydJ"
      },
      "outputs": [],
      "source": [
        "%config IPCompleter.greedy=True\n",
        "import pandas as pd\n",
        "import numpy as np\n",
        "import xlrd\n",
        "import seaborn as sb\n",
        "import matplotlib.pyplot as plt\n",
        "from matplotlib.ticker import PercentFormatter"
      ]
    },
    {
      "cell_type": "code",
      "source": [
        "cdmx = pd.read_excel(\"https://inmobiliariavilla.com.mx/wp-content/uploads/2023/02/libro_principal.xlsx\", sheet_name=\"CDMX\")"
      ],
      "metadata": {
        "id": "u9s5dJkRprTS"
      },
      "execution_count": null,
      "outputs": []
    },
    {
      "cell_type": "code",
      "source": [
        "qrtro = pd.read_excel('https://inmobiliariavilla.com.mx/wp-content/uploads/2023/02/libro_principal.xlsx', sheet_name='QRTRO')"
      ],
      "metadata": {
        "id": "vvUoCLFT0GCO"
      },
      "execution_count": null,
      "outputs": []
    },
    {
      "cell_type": "code",
      "source": [
        "nl = pd.read_excel('https://inmobiliariavilla.com.mx/wp-content/uploads/2023/02/libro_principal.xlsx', sheet_name='NL')"
      ],
      "metadata": {
        "id": "JLMeUsm5-4C7"
      },
      "execution_count": null,
      "outputs": []
    },
    {
      "cell_type": "code",
      "source": [
        "cdmx.head()"
      ],
      "metadata": {
        "colab": {
          "base_uri": "https://localhost:8080/",
          "height": 666
        },
        "id": "SYkvepY36aX3",
        "outputId": "e7298bdf-c110-4fa3-bbcf-d97bf402e723"
      },
      "execution_count": null,
      "outputs": [
        {
          "output_type": "execute_result",
          "data": {
            "text/plain": [
              "   DEL     # CTAS                                    NOMBRE   F_OTORG  \\\n",
              "0    9  911167028                      ZAVALA LOPEZ JOAQUIN  20181101   \n",
              "1    9  918143925            RAMON BUSTAMANTE AURORA RAQUEL  20180903   \n",
              "2    9  918147896  VAZQUEZ MARTINEZ DE VELASCO LOURDES REFU  20180911   \n",
              "3    9  918148280          ACEVEDO PADILLA MARTHA ESPERANZA  20180912   \n",
              "4    9  918151439                  SESILIANO MORENO CITLALI  20180903   \n",
              "\n",
              "                                      CALLE                             COL  \\\n",
              "0       FUENTE DE DALILA 22   B MZ 11 LT 11  FUENTES DEL VALLE SEGUNDA SECC   \n",
              "1  CALLE 5 32   CASA 4 LT FRACC G NIV PLANT  COLONIA SAN PEDRO DE LOS PINOS   \n",
              "2   CALLE LAGO ZUG 8   DEPTO A404 COND LAGO                 COLONIA LEGARIA   \n",
              "3   PRIVADA DE BAJIO ANTES CALLE CERRADA DE                COLONIA ROMA SUR   \n",
              "4  CALLE EMILIANO ZAPATA 174   DEPTO 401 CO              COLONIA 10 DE MAYO   \n",
              "\n",
              "                   MUN     CP                                 CALLE_ALT  \\\n",
              "0            TULTITLAN  54910       FUENTE DE DALILA 22   B MZ 11 LT 11   \n",
              "1        BENITO JUAREZ   3800  CALLE 5 32   CASA 4 LT FRACC G NIV PLANT   \n",
              "2       MIGUEL HIDALGO  11410   CALLE LAGO ZUG 8   DEPTO A404 COND LAGO   \n",
              "3           CUAUHTEMOC   6760   PRIVADA DE BAJIO ANTES CALLE CERRADA DE   \n",
              "4  VENUSTIANO CARRANZA  15290  CALLE EMILIANO ZAPATA 174   DEPTO 401 CO   \n",
              "\n",
              "                          COL_ALT  ... TEL_06  TEL_ORIG TEL_ACT  CEL_ORIG  \\\n",
              "0  FUENTES DEL VALLE SEGUNDA SECC  ...    NaN       NaN     NaN       NaN   \n",
              "1  COLONIA SAN PEDRO DE LOS PINOS  ...    NaN       NaN     NaN       NaN   \n",
              "2                 COLONIA LEGARIA  ...    NaN       NaN     NaN       NaN   \n",
              "3                COLONIA ROMA SUR  ...    NaN       NaN     NaN       NaN   \n",
              "4              COLONIA 10 DE MAYO  ...    NaN       NaN     NaN       NaN   \n",
              "\n",
              "   CEL_ACT  TRAB_ACT  CEL_ARC               CONCEPTO         TX_DEL  \\\n",
              "0      NaN       NaN      NaN  Infonavit Tradicional  Metropolitana   \n",
              "1      NaN       NaN      NaN  Infonavit Tradicional  Metropolitana   \n",
              "2      NaN       NaN      NaN  Infonavit Tradicional  Metropolitana   \n",
              "3      NaN       NaN      NaN  Infonavit Tradicional  Metropolitana   \n",
              "4      NaN       NaN      NaN  Infonavit Tradicional  Metropolitana   \n",
              "\n",
              "   TX_DELCORT  \n",
              "0       Metro  \n",
              "1       Metro  \n",
              "2       Metro  \n",
              "3       Metro  \n",
              "4       Metro  \n",
              "\n",
              "[5 rows x 37 columns]"
            ],
            "text/html": [
              "\n",
              "  <div id=\"df-23ad440a-3cbb-4732-91f9-9e95fd107bde\">\n",
              "    <div class=\"colab-df-container\">\n",
              "      <div>\n",
              "<style scoped>\n",
              "    .dataframe tbody tr th:only-of-type {\n",
              "        vertical-align: middle;\n",
              "    }\n",
              "\n",
              "    .dataframe tbody tr th {\n",
              "        vertical-align: top;\n",
              "    }\n",
              "\n",
              "    .dataframe thead th {\n",
              "        text-align: right;\n",
              "    }\n",
              "</style>\n",
              "<table border=\"1\" class=\"dataframe\">\n",
              "  <thead>\n",
              "    <tr style=\"text-align: right;\">\n",
              "      <th></th>\n",
              "      <th>DEL</th>\n",
              "      <th># CTAS</th>\n",
              "      <th>NOMBRE</th>\n",
              "      <th>F_OTORG</th>\n",
              "      <th>CALLE</th>\n",
              "      <th>COL</th>\n",
              "      <th>MUN</th>\n",
              "      <th>CP</th>\n",
              "      <th>CALLE_ALT</th>\n",
              "      <th>COL_ALT</th>\n",
              "      <th>...</th>\n",
              "      <th>TEL_06</th>\n",
              "      <th>TEL_ORIG</th>\n",
              "      <th>TEL_ACT</th>\n",
              "      <th>CEL_ORIG</th>\n",
              "      <th>CEL_ACT</th>\n",
              "      <th>TRAB_ACT</th>\n",
              "      <th>CEL_ARC</th>\n",
              "      <th>CONCEPTO</th>\n",
              "      <th>TX_DEL</th>\n",
              "      <th>TX_DELCORT</th>\n",
              "    </tr>\n",
              "  </thead>\n",
              "  <tbody>\n",
              "    <tr>\n",
              "      <th>0</th>\n",
              "      <td>9</td>\n",
              "      <td>911167028</td>\n",
              "      <td>ZAVALA LOPEZ JOAQUIN</td>\n",
              "      <td>20181101</td>\n",
              "      <td>FUENTE DE DALILA 22   B MZ 11 LT 11</td>\n",
              "      <td>FUENTES DEL VALLE SEGUNDA SECC</td>\n",
              "      <td>TULTITLAN</td>\n",
              "      <td>54910</td>\n",
              "      <td>FUENTE DE DALILA 22   B MZ 11 LT 11</td>\n",
              "      <td>FUENTES DEL VALLE SEGUNDA SECC</td>\n",
              "      <td>...</td>\n",
              "      <td>NaN</td>\n",
              "      <td>NaN</td>\n",
              "      <td>NaN</td>\n",
              "      <td>NaN</td>\n",
              "      <td>NaN</td>\n",
              "      <td>NaN</td>\n",
              "      <td>NaN</td>\n",
              "      <td>Infonavit Tradicional</td>\n",
              "      <td>Metropolitana</td>\n",
              "      <td>Metro</td>\n",
              "    </tr>\n",
              "    <tr>\n",
              "      <th>1</th>\n",
              "      <td>9</td>\n",
              "      <td>918143925</td>\n",
              "      <td>RAMON BUSTAMANTE AURORA RAQUEL</td>\n",
              "      <td>20180903</td>\n",
              "      <td>CALLE 5 32   CASA 4 LT FRACC G NIV PLANT</td>\n",
              "      <td>COLONIA SAN PEDRO DE LOS PINOS</td>\n",
              "      <td>BENITO JUAREZ</td>\n",
              "      <td>3800</td>\n",
              "      <td>CALLE 5 32   CASA 4 LT FRACC G NIV PLANT</td>\n",
              "      <td>COLONIA SAN PEDRO DE LOS PINOS</td>\n",
              "      <td>...</td>\n",
              "      <td>NaN</td>\n",
              "      <td>NaN</td>\n",
              "      <td>NaN</td>\n",
              "      <td>NaN</td>\n",
              "      <td>NaN</td>\n",
              "      <td>NaN</td>\n",
              "      <td>NaN</td>\n",
              "      <td>Infonavit Tradicional</td>\n",
              "      <td>Metropolitana</td>\n",
              "      <td>Metro</td>\n",
              "    </tr>\n",
              "    <tr>\n",
              "      <th>2</th>\n",
              "      <td>9</td>\n",
              "      <td>918147896</td>\n",
              "      <td>VAZQUEZ MARTINEZ DE VELASCO LOURDES REFU</td>\n",
              "      <td>20180911</td>\n",
              "      <td>CALLE LAGO ZUG 8   DEPTO A404 COND LAGO</td>\n",
              "      <td>COLONIA LEGARIA</td>\n",
              "      <td>MIGUEL HIDALGO</td>\n",
              "      <td>11410</td>\n",
              "      <td>CALLE LAGO ZUG 8   DEPTO A404 COND LAGO</td>\n",
              "      <td>COLONIA LEGARIA</td>\n",
              "      <td>...</td>\n",
              "      <td>NaN</td>\n",
              "      <td>NaN</td>\n",
              "      <td>NaN</td>\n",
              "      <td>NaN</td>\n",
              "      <td>NaN</td>\n",
              "      <td>NaN</td>\n",
              "      <td>NaN</td>\n",
              "      <td>Infonavit Tradicional</td>\n",
              "      <td>Metropolitana</td>\n",
              "      <td>Metro</td>\n",
              "    </tr>\n",
              "    <tr>\n",
              "      <th>3</th>\n",
              "      <td>9</td>\n",
              "      <td>918148280</td>\n",
              "      <td>ACEVEDO PADILLA MARTHA ESPERANZA</td>\n",
              "      <td>20180912</td>\n",
              "      <td>PRIVADA DE BAJIO ANTES CALLE CERRADA DE</td>\n",
              "      <td>COLONIA ROMA SUR</td>\n",
              "      <td>CUAUHTEMOC</td>\n",
              "      <td>6760</td>\n",
              "      <td>PRIVADA DE BAJIO ANTES CALLE CERRADA DE</td>\n",
              "      <td>COLONIA ROMA SUR</td>\n",
              "      <td>...</td>\n",
              "      <td>NaN</td>\n",
              "      <td>NaN</td>\n",
              "      <td>NaN</td>\n",
              "      <td>NaN</td>\n",
              "      <td>NaN</td>\n",
              "      <td>NaN</td>\n",
              "      <td>NaN</td>\n",
              "      <td>Infonavit Tradicional</td>\n",
              "      <td>Metropolitana</td>\n",
              "      <td>Metro</td>\n",
              "    </tr>\n",
              "    <tr>\n",
              "      <th>4</th>\n",
              "      <td>9</td>\n",
              "      <td>918151439</td>\n",
              "      <td>SESILIANO MORENO CITLALI</td>\n",
              "      <td>20180903</td>\n",
              "      <td>CALLE EMILIANO ZAPATA 174   DEPTO 401 CO</td>\n",
              "      <td>COLONIA 10 DE MAYO</td>\n",
              "      <td>VENUSTIANO CARRANZA</td>\n",
              "      <td>15290</td>\n",
              "      <td>CALLE EMILIANO ZAPATA 174   DEPTO 401 CO</td>\n",
              "      <td>COLONIA 10 DE MAYO</td>\n",
              "      <td>...</td>\n",
              "      <td>NaN</td>\n",
              "      <td>NaN</td>\n",
              "      <td>NaN</td>\n",
              "      <td>NaN</td>\n",
              "      <td>NaN</td>\n",
              "      <td>NaN</td>\n",
              "      <td>NaN</td>\n",
              "      <td>Infonavit Tradicional</td>\n",
              "      <td>Metropolitana</td>\n",
              "      <td>Metro</td>\n",
              "    </tr>\n",
              "  </tbody>\n",
              "</table>\n",
              "<p>5 rows × 37 columns</p>\n",
              "</div>\n",
              "      <button class=\"colab-df-convert\" onclick=\"convertToInteractive('df-23ad440a-3cbb-4732-91f9-9e95fd107bde')\"\n",
              "              title=\"Convert this dataframe to an interactive table.\"\n",
              "              style=\"display:none;\">\n",
              "        \n",
              "  <svg xmlns=\"http://www.w3.org/2000/svg\" height=\"24px\"viewBox=\"0 0 24 24\"\n",
              "       width=\"24px\">\n",
              "    <path d=\"M0 0h24v24H0V0z\" fill=\"none\"/>\n",
              "    <path d=\"M18.56 5.44l.94 2.06.94-2.06 2.06-.94-2.06-.94-.94-2.06-.94 2.06-2.06.94zm-11 1L8.5 8.5l.94-2.06 2.06-.94-2.06-.94L8.5 2.5l-.94 2.06-2.06.94zm10 10l.94 2.06.94-2.06 2.06-.94-2.06-.94-.94-2.06-.94 2.06-2.06.94z\"/><path d=\"M17.41 7.96l-1.37-1.37c-.4-.4-.92-.59-1.43-.59-.52 0-1.04.2-1.43.59L10.3 9.45l-7.72 7.72c-.78.78-.78 2.05 0 2.83L4 21.41c.39.39.9.59 1.41.59.51 0 1.02-.2 1.41-.59l7.78-7.78 2.81-2.81c.8-.78.8-2.07 0-2.86zM5.41 20L4 18.59l7.72-7.72 1.47 1.35L5.41 20z\"/>\n",
              "  </svg>\n",
              "      </button>\n",
              "      \n",
              "  <style>\n",
              "    .colab-df-container {\n",
              "      display:flex;\n",
              "      flex-wrap:wrap;\n",
              "      gap: 12px;\n",
              "    }\n",
              "\n",
              "    .colab-df-convert {\n",
              "      background-color: #E8F0FE;\n",
              "      border: none;\n",
              "      border-radius: 50%;\n",
              "      cursor: pointer;\n",
              "      display: none;\n",
              "      fill: #1967D2;\n",
              "      height: 32px;\n",
              "      padding: 0 0 0 0;\n",
              "      width: 32px;\n",
              "    }\n",
              "\n",
              "    .colab-df-convert:hover {\n",
              "      background-color: #E2EBFA;\n",
              "      box-shadow: 0px 1px 2px rgba(60, 64, 67, 0.3), 0px 1px 3px 1px rgba(60, 64, 67, 0.15);\n",
              "      fill: #174EA6;\n",
              "    }\n",
              "\n",
              "    [theme=dark] .colab-df-convert {\n",
              "      background-color: #3B4455;\n",
              "      fill: #D2E3FC;\n",
              "    }\n",
              "\n",
              "    [theme=dark] .colab-df-convert:hover {\n",
              "      background-color: #434B5C;\n",
              "      box-shadow: 0px 1px 3px 1px rgba(0, 0, 0, 0.15);\n",
              "      filter: drop-shadow(0px 1px 2px rgba(0, 0, 0, 0.3));\n",
              "      fill: #FFFFFF;\n",
              "    }\n",
              "  </style>\n",
              "\n",
              "      <script>\n",
              "        const buttonEl =\n",
              "          document.querySelector('#df-23ad440a-3cbb-4732-91f9-9e95fd107bde button.colab-df-convert');\n",
              "        buttonEl.style.display =\n",
              "          google.colab.kernel.accessAllowed ? 'block' : 'none';\n",
              "\n",
              "        async function convertToInteractive(key) {\n",
              "          const element = document.querySelector('#df-23ad440a-3cbb-4732-91f9-9e95fd107bde');\n",
              "          const dataTable =\n",
              "            await google.colab.kernel.invokeFunction('convertToInteractive',\n",
              "                                                     [key], {});\n",
              "          if (!dataTable) return;\n",
              "\n",
              "          const docLinkHtml = 'Like what you see? Visit the ' +\n",
              "            '<a target=\"_blank\" href=https://colab.research.google.com/notebooks/data_table.ipynb>data table notebook</a>'\n",
              "            + ' to learn more about interactive tables.';\n",
              "          element.innerHTML = '';\n",
              "          dataTable['output_type'] = 'display_data';\n",
              "          await google.colab.output.renderOutput(dataTable, element);\n",
              "          const docLink = document.createElement('div');\n",
              "          docLink.innerHTML = docLinkHtml;\n",
              "          element.appendChild(docLink);\n",
              "        }\n",
              "      </script>\n",
              "    </div>\n",
              "  </div>\n",
              "  "
            ]
          },
          "metadata": {},
          "execution_count": 49
        },
        {
          "output_type": "stream",
          "name": "stdout",
          "text": [
            "Warning: Total number of columns (37) exceeds max_columns (20) limiting to first (20) columns.\n"
          ]
        }
      ]
    },
    {
      "cell_type": "code",
      "source": [
        "df.dtypes\n"
      ],
      "metadata": {
        "colab": {
          "base_uri": "https://localhost:8080/"
        },
        "id": "z32GiGIMwiRU",
        "outputId": "3c70cc33-7f1c-4b7f-d113-b7d68c64fe8c"
      },
      "execution_count": null,
      "outputs": [
        {
          "output_type": "execute_result",
          "data": {
            "text/plain": [
              "DEL             int64\n",
              "# CTAS          int64\n",
              "NOMBRE         object\n",
              "F_OTORG         int64\n",
              "CALLE          object\n",
              "COL            object\n",
              "MUN            object\n",
              "CP              int64\n",
              "CALLE_ALT      object\n",
              "COL_ALT        object\n",
              "MUN_ALT        object\n",
              "CP_ALT        float64\n",
              "STAT           object\n",
              "MES_SINPAG      int64\n",
              "ADI_ECOTEC    float64\n",
              "TOT_ECOELE    float64\n",
              "TOT_INSELE      int64\n",
              "AHO_OBLIG       int64\n",
              "AHO_ELEG        int64\n",
              "REAL_ECOTE      int64\n",
              "TX_LADA         int64\n",
              "TX_TELEFON      int64\n",
              "TEL_01          int64\n",
              "TEL_02        float64\n",
              "TEL_03        float64\n",
              "TEL_04        float64\n",
              "TEL_05        float64\n",
              "TEL_06        float64\n",
              "TEL_ORIG      float64\n",
              "TEL_ACT       float64\n",
              "CEL_ORIG      float64\n",
              "CEL_ACT       float64\n",
              "TRAB_ACT      float64\n",
              "CEL_ARC       float64\n",
              "CONCEPTO       object\n",
              "TX_DEL         object\n",
              "TX_DELCORT     object\n",
              "dtype: object"
            ]
          },
          "metadata": {},
          "execution_count": 34
        }
      ]
    },
    {
      "cell_type": "code",
      "source": [
        "edoMex = df.copy\n"
      ],
      "metadata": {
        "id": "Uo56U1OTm8tg"
      },
      "execution_count": null,
      "outputs": []
    },
    {
      "cell_type": "code",
      "source": [
        "edoMex = df"
      ],
      "metadata": {
        "id": "yYvt4u4Fn0p9"
      },
      "execution_count": null,
      "outputs": []
    },
    {
      "cell_type": "code",
      "source": [
        "edoMex.head"
      ],
      "metadata": {
        "colab": {
          "base_uri": "https://localhost:8080/",
          "height": 172
        },
        "id": "C4e9zSQNoLgO",
        "outputId": "96895032-a5ae-4935-eb19-6ba98ef92219"
      },
      "execution_count": 1,
      "outputs": [
        {
          "output_type": "error",
          "ename": "NameError",
          "evalue": "ignored",
          "traceback": [
            "\u001b[0;31m---------------------------------------------------------------------------\u001b[0m",
            "\u001b[0;31mNameError\u001b[0m                                 Traceback (most recent call last)",
            "\u001b[0;32m<ipython-input-1-478db34e1d96>\u001b[0m in \u001b[0;36m<module>\u001b[0;34m\u001b[0m\n\u001b[0;32m----> 1\u001b[0;31m \u001b[0medoMex\u001b[0m\u001b[0;34m.\u001b[0m\u001b[0mhead\u001b[0m\u001b[0;34m\u001b[0m\u001b[0;34m\u001b[0m\u001b[0m\n\u001b[0m",
            "\u001b[0;31mNameError\u001b[0m: name 'edoMex' is not defined"
          ]
        }
      ]
    },
    {
      "cell_type": "code",
      "source": [
        "edoMex.to_csv('/content/drive/MyDrive/Proyecto_python/edoMex_utf8.csv', encoding='utf-8')"
      ],
      "metadata": {
        "id": "CJCoIz94oQcD"
      },
      "execution_count": null,
      "outputs": []
    },
    {
      "cell_type": "code",
      "source": [
        "cdmx.to_csv('/content/drive/MyDrive/Proyecto_python/cdmx_utf8.csv',encoding='utf-8')"
      ],
      "metadata": {
        "id": "IrOLP758zoHV"
      },
      "execution_count": null,
      "outputs": []
    },
    {
      "cell_type": "code",
      "source": [
        "qrtro.to_csv('/content/drive/MyDrive/Proyecto_python/qrtro_utf8.csv',encoding ='utf-8')"
      ],
      "metadata": {
        "id": "N6GVW6Ad621H"
      },
      "execution_count": null,
      "outputs": []
    },
    {
      "cell_type": "code",
      "source": [
        "nl.to_csv('/content/drive/MyDrive/Proyecto_python/nl_utf8.csv',encoding='utf-8')"
      ],
      "metadata": {
        "id": "iJ6s35Kp-pRw"
      },
      "execution_count": null,
      "outputs": []
    }
  ]
}