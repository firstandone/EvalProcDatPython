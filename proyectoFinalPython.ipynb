{
  "nbformat": 4,
  "nbformat_minor": 0,
  "metadata": {
    "colab": {
      "provenance": [],
      "mount_file_id": "1xdErSvoMxXbFrnlTDfZd0xsQkL6X4toM",
      "authorship_tag": "ABX9TyPbzl8iAuJvHeL00EnrZvK6",
      "include_colab_link": true
    },
    "kernelspec": {
      "name": "python3",
      "display_name": "Python 3"
    },
    "language_info": {
      "name": "python"
    }
  },
  "cells": [
    {
      "cell_type": "markdown",
      "metadata": {
        "id": "view-in-github",
        "colab_type": "text"
      },
      "source": [
        "<a href=\"https://colab.research.google.com/github/firstandone/EvalProcDatPython/blob/main/proyectoFinalPython.ipynb\" target=\"_parent\"><img src=\"https://colab.research.google.com/assets/colab-badge.svg\" alt=\"Open In Colab\"/></a>"
      ]
    },
    {
      "cell_type": "markdown",
      "source": [
        "**RESUMEN**"
      ],
      "metadata": {
        "id": "RBgLeXcqH81h"
      }
    },
    {
      "cell_type": "markdown",
      "source": [
        "El infonavit suspendio la modalidad de crédito \"Hipoteca Verde\" para la adquisición de ecotecnologias.\n",
        "La empresa objeto de este estudio fue proveedora de productos de ecotecnologias quedando sin poder vender los diferentes productos de ecotecnologias.<br>\n",
        "Bajando sus facturación y ventas a casi cero.<br>\n",
        "Los retos a resolver por data science son dos, por encargo del dueño de esta empresa proveedora:<br>\n",
        "a.-) Modelar si es viable seguir operando el negocio, sin depender de los ingresos que provenian de este programa de gobierno.<br>\n",
        "b.-) Es viable transformar la empresa de proveedor de gobierno, a empresa de \"soluciones sustentables para el hogar\"\n",
        "<br>\n",
        "\n",
        "Para poder modelar la solución sólo se tiene:<br>\n",
        "1.- La base de datos de prospectación, que hacia llegar el infonavit, \"EN LOTES \n",
        "    SIN NINGUN TIPO DE CLASIFICACIÓN, VERIFICACIÓN\",  dividida por estado de la \n",
        "    república.<br>\n",
        "2.- El call-center opera con 5 agentes de ventas.<br>\n",
        "3.- No se tiene acceso a historico de ventas, productos vendidos, se trata de   \n",
        "    transformar en un nuevo negocio partiendo de cero.<br>\n",
        "\n",
        "Estos datos los envia infonavit en formato excel separados por estado de la república mexicana y cada archivo viene con 37 campos y un archivo que describe cada campo., con los datos generales de cada contacto:<br>\n",
        "\"NOMBRE DE LA COLUMNA\" \"DESCRIPCIÓN\" <br>\n",
        "DEL ->            DELEGACION INFONAVIT. <br>\n",
        "\"# CTAS ->         NÚMERO DE CUENTA INFONAVIT. <br>\n",
        "NOMBRE ->          NOMBRE DEL TITULAR DE LA CUENTA.<br>\n",
        "F_OTORG ->        FECHA DE OTORGAMIENTO DE CRÉDITO. <br>\n",
        "CALLE ->           CALLE REGISTRADA CREDITO VIVIENDA INFONAVIT. <br>\n",
        "COL ->             COLONIA REGISTRADA CREDITO VIVIEND INFONAVIT. <br>\n",
        "MUN ->             MUNICIPO REGISTRADO CREDITO VIVIENDA INFONAVIT. <br>\n",
        "CP ->              CP REGISTRADO CREDITO VIVIENDA INFONAVIT. <br>\n",
        "CALLE_ALT ->       CALLE ALTERNA, DOMICILIO OPCIONAL. <br>\n",
        "COL_ALT ->         COLONIA ALTERNA, DOMICILIO OPCIONAL. <br>\n",
        "MUN_ALT ->         MUNICIPIO ALTERNO, DOMICILIO OPCIONAL. <br>\n",
        "CP_ALT ->          CODIGO POSTAL ALTERNO, DOMICILIO OPCIONAL. <br>\n",
        "STAT ->            USO INTERNO INFONAVIT. <br>\n",
        "MES_SINPAG ->      USO INTERNO INFONAVIT. <br>\n",
        "ADI_ECOTEC ->      MONTO DE CREDITO AUTORIZADO EN PESOS. <br>\n",
        "TOT_ECOELE ->     MONTO TOTAL DE CREDITO AUTORIZADO EN PESOS. <br>\n",
        "TOT_INSELE ->      USO INTERNO INFONAVIT. <br>\n",
        "AHO_OBLIG ->       USO INTERNO INFONAVIT. <br>\n",
        "AHO_ELEG ->        USO INTERNO INFONAVIT. <br>\n",
        "REAL_ECOTE ->      USO INTERNO INFONAVIT. <br>\n",
        "TX_LADA ->         CLAVE LADA MARCACIÓN TELEFONO FIJO.<br> \n",
        "TX_TELEFON ->      NÚMERO DE TELEFONO DE CONTACTO REGISTRADO EN INFONAVIT. <br>\n",
        "TEL_01 ->          NUMERO DE TELEFONO OPCIONAL. <br>\n",
        "TEL_02 ->          NUMERO DE TELEFONO OPCIONAL. <br>\n",
        "TEL_03 ->          NUMERO DE TELEFONO OPCIONAL. <br>\n",
        "TEL_04 ->          NUMERO DE TELEFONO OPCIONAL. <br>\n",
        "TEL_05 ->          NUMERO DE TELEFONO OPCIONAL. <br>\n",
        "TEL_06 ->          NUMERO DE TELEFONO OPCIONAL. <br>\n",
        "TEL_ORIG ->        NUMERO DE TELEFONO OPCIONAL. <br>\n",
        "TEL_ACT ->         NUMERO DE TELEFONO ORIGINAL REGISTRADO EN INFONAVIT (OPCIONAL). <br>\n",
        "CEL_ORIG ->        NUMERO DE TELEFONO CELULAR ORIGINAL (OPCIONAL). <br>\n",
        "CEL_ACT ->         NUMERO DE TELEFONO CELULAR ACTUALIZADO (OPCIONAL). <br>\n",
        "TRAB_ACT ->        NUMERO DE TELEFONO CENTRO DE TRABAJO. <br>\n",
        "CEL_ARC ->         USO INTERNO INFONAVIT. <br>\n",
        "CONCEPTO ->        TIPO DE CREDITO. <br>\n",
        "TX_DEL ->          USO INTERNO. <br>\n",
        "TX_DELCORT ->      USO INTERNO. <br>\n",
        "\n",
        "\n",
        "\n",
        "Lo único que nos suministra la empresa es:\n",
        "-Monto autorizado para consumo de productos de ecotecnologias.<br>\n",
        "-Considerar la base actual de clientes potenciales establecidos en la cartera\n"
      ],
      "metadata": {
        "id": "nlMkTbhcJZZg"
      }
    },
    {
      "cell_type": "markdown",
      "source": [
        "**INTRODUCCIÓN**\n",
        "\n",
        "Este problema en particular es nuevo, sin precendente anteriores, ya que el programa \"HIPOTECA VERDE\" se implmento durante la primer decada de este siglo, y no había sido suspendido con anterioridad.<br>\n",
        "Conforme al Programa Nacional de Vivienda (2007-2012) del Sexenio del Presidente Felipe Calderón Hinojosa (2006-2012), dicho programa inspirado en los principios del Desarrollo Sustentable<sup>(1)</sup> se planteo, entre otros objetivos, \"Impulsar un desarrollo habitacional sustentable\" (CONAVI, 2008, p.37). Con dicha base a partir de 2007, el INFONAVIT impulso el programa de financiamiento HIPOTECA VERDE, definida como:<br>\n",
        "\"Un crédito que cuenta con un monto adicional para que el derechohabiente pueda adquirir una vivienda con tecnologías eficientes que disminuyen el consumo de agua, energía eléctrica y gas, o incorporarlas a la misma en caso de que la vivienda a adquirir no cuente con ellas en el momento de la formalización del crédito, con el objetivo de mejorar la calidad de vida de nuestros acreditados, disminuyendo su gasto familiar y las emisiones de CO2 al medio ambiente (INFONAVIT, 2011b, p.5) <br>\n",
        "\n",
        "Este programa se ha desarrollado en tres fases:<br>\n",
        "Como proyecto piloto, desde la formalización del primer crédito (julio de 2007<sup>2</sup>) hasta el 4 de marzo de 2008; de esta fecha hasta el 31 de diciembre de 2010, fue un programa opcional en el que podian participar todas las desarrolladoras inmobiliarias interesadas<sup>3</sup>; y finalmente, desde enero de 2011 fue un programa obligatorio para todos aquellos que deseen obtener un crédito del INFONAVIT (Chavarria, 2007; INFONAVIT, 2008, 2011c)<sup>4</sup>\n",
        "El programa \"HIPOTECA VERDE\" bajo esta definición fue suspendido el 19 Marzo de 2022, en la misma nota afirman que implementara el INFONAVIT otros esquemas de crédito, diferentes al concepto original del  crédito.<sup>5</sup>\n",
        "\n",
        "<h6>DELIMITACION</h6>\n",
        "La delimitación del tema objeto de estudio y el proposito del mismo NO involucra:<br>\n",
        "-Volumen del negocio en pesos.<br>\n",
        "-ROI o punto de equilibro del negocio.<br>\n",
        "-Productos especificos a vender en cada zona geografica.<br>\n",
        "-Mecanismos o procesos de venta.<br>\n",
        "-Perfiles para otorgamiento de crédito.<br>\n",
        "-Niveles de riesgo en las diferentes etapas del negocio.<br>\n",
        "\n",
        "El centro y objetivo del presente estudio, se limita a los dos objetivos señalados arriba, y probar la hipotesis:\n",
        "Es viable un negocio de \"soluciones sustentables\" en las cuatro zonas CDMX,EDOMEX, QUERETARO, NUEVO LEÓN.\n",
        "\n",
        "METODOLOGIA:\n",
        "\n",
        "\n",
        "\n",
        "\n",
        "\n",
        "\n",
        "\n",
        "\n",
        "\n"
      ],
      "metadata": {
        "id": "QrXePgXNbFEh"
      }
    },
    {
      "cell_type": "code",
      "source": [
        "import pandas as pd"
      ],
      "metadata": {
        "id": "4UdfuIpKJYi-"
      },
      "execution_count": null,
      "outputs": []
    },
    {
      "cell_type": "code",
      "source": [
        "from google.colab import drive"
      ],
      "metadata": {
        "id": "l1ZX9Gc7GzGq"
      },
      "execution_count": null,
      "outputs": []
    },
    {
      "cell_type": "code",
      "source": [
        "import glob"
      ],
      "metadata": {
        "id": "_mX99dHLpgCr"
      },
      "execution_count": null,
      "outputs": []
    },
    {
      "cell_type": "code",
      "source": [
        "import time"
      ],
      "metadata": {
        "id": "1zIQ2UZx1nS8"
      },
      "execution_count": null,
      "outputs": []
    },
    {
      "cell_type": "markdown",
      "source": [
        "Los archivos que suministra el INFONAVIT, es libro de excel, dividido en hojas por estado, cabe señalar que el archivo solo viene dividido por estado, y no tiene ningún tipo de limpieza de datos, orden, o verificación.<br>\n",
        "El archivo esta dentro de una URL externa a DRIVE, por lo cual se utiliza la función de pandas read_excel, con el argumento sheet_name, para extraer cada hoja dentro del directorio raiz de trabajo de Google Colaboratory.\n",
        "Para este caso particular son cuatro hojas de excel, y lo hacemos cada  una por separado, la razón es que para realizar el analisis de cluster, para poderlos clasificar en grupos homogeneos.\n",
        "Adicional, al no estar limpio el archivo original, si lo leemos directamente y lo pasamos a dataframe, no tenemos una certeza de que pasen los datos correctamwente,  ya que el archivo origen, no vienen con ningún tratamiento de limpieza previo.\n",
        "Esto es importante ya que pudieramos aplicar una instrucción concat, pero esto lejos de ayudar, ensuciaria mas los datos, ya que no se tienes la certeza de limpieza en columnas.\n"
      ],
      "metadata": {
        "id": "iZIyAnKNch5L"
      }
    },
    {
      "cell_type": "code",
      "source": [
        "cdmx = pd.read_excel(\"https://inmobiliariavilla.com.mx/wp-content/uploads/2023/02/libro_principal.xlsx\", sheet_name=\"CDMX\")"
      ],
      "metadata": {
        "id": "i_D5mUuVZ_e6"
      },
      "execution_count": null,
      "outputs": []
    },
    {
      "cell_type": "code",
      "source": [
        "edoMex= pd.read_excel(\"https://inmobiliariavilla.com.mx/wp-content/uploads/2023/02/libro_principal.xlsx\", sheet_name=\"EDODEMEX\")"
      ],
      "metadata": {
        "id": "euSsmM_PaBYR"
      },
      "execution_count": null,
      "outputs": []
    },
    {
      "cell_type": "code",
      "source": [
        "qrtro = pd.read_excel('https://inmobiliariavilla.com.mx/wp-content/uploads/2023/02/libro_principal.xlsx', sheet_name='QRTRO')"
      ],
      "metadata": {
        "id": "SiNm7oXMaTPb"
      },
      "execution_count": null,
      "outputs": []
    },
    {
      "cell_type": "code",
      "source": [
        "nl = pd.read_excel('https://inmobiliariavilla.com.mx/wp-content/uploads/2023/02/libro_principal.xlsx', sheet_name='NL')"
      ],
      "metadata": {
        "id": "Z2E87UeQaZwy"
      },
      "execution_count": null,
      "outputs": []
    },
    {
      "cell_type": "markdown",
      "source": [
        "Adquisición de datos.\n",
        "Los cuatro archivos *.csv se situarón en una carpeta de Google drive.\n",
        "Cada archivo por un nombre que hace referencia al estado de la república mexicana donde tenia presencia la empresa, y que contiene los datos arriba señalados."
      ],
      "metadata": {
        "id": "4bAudWMGOUv5"
      }
    },
    {
      "cell_type": "markdown",
      "source": [
        "\n",
        "La ruta donde se colocan los archivos es:\n",
        "/content/drive/MyDrive/Proyecto_python\n",
        "Cada archivo se denota por nombre del estado de la república mexicana, y se codifica con el parametro UTF-8, para que respete carácteres especiales.\n",
        "\n"
      ],
      "metadata": {
        "id": "HRSA04TBWL7b"
      }
    },
    {
      "cell_type": "code",
      "source": [
        "cdmx.to_csv('/content/drive/MyDrive/Proyecto_python/cdmx_utf8.csv',encoding='utf-8')"
      ],
      "metadata": {
        "id": "IrOLP758zoHV"
      },
      "execution_count": null,
      "outputs": []
    },
    {
      "cell_type": "code",
      "source": [
        "edoMex.to_csv('/content/drive/MyDrive/Proyecto_python/edoMex_utf8.csv', encoding='utf-8')"
      ],
      "metadata": {
        "id": "CJCoIz94oQcD"
      },
      "execution_count": null,
      "outputs": []
    },
    {
      "cell_type": "code",
      "source": [
        "nl.to_csv('/content/drive/MyDrive/Proyecto_python/nl_utf8.csv',encoding='utf-8')"
      ],
      "metadata": {
        "id": "iJ6s35Kp-pRw"
      },
      "execution_count": null,
      "outputs": []
    },
    {
      "cell_type": "code",
      "source": [
        "qrtro.to_csv('/content/drive/MyDrive/Proyecto_python/qrtro_utf8.csv',encoding ='utf-8')"
      ],
      "metadata": {
        "id": "N6GVW6Ad621H"
      },
      "execution_count": null,
      "outputs": []
    },
    {
      "cell_type": "markdown",
      "source": [],
      "metadata": {
        "id": "wndWjf_-dYcY"
      }
    },
    {
      "cell_type": "markdown",
      "source": [
        "El paso previo es necesario para tener los archivos con la codificación correcta UTF-8, de igual forma, ya tenemos los archivos csv para poder hacer las transformaciones que sean necesarias, en este caso cada archivo lo vamos a transformar en un pandas dataframe con la función pd.read_csv()<br>\n",
        "y con la función info() validamos que la transformación se realizo correctamente y podemos visualizar los tipos de datos.<br>\n",
        "Con la función shape validamos que las columnas sean 38 en cada data-frame, esto posteriormente nos servira para efectos de una posible concatenación.<br>\n",
        "Con la función head() nos sirve para ver la estructura de los datos, y poder veri si corresponden con el tipo de datos de cada columna."
      ],
      "metadata": {
        "id": "ibLhXal9dc5n"
      }
    },
    {
      "cell_type": "code",
      "source": [
        "path = '/content/drive/MyDrive/Proyecto_python'\n",
        "csv_bases = glob.glob(path + \"/*.csv\")\n",
        "\n",
        "df_lista = (pd.read_csv(file) for file in csv_bases)"
      ],
      "metadata": {
        "id": "KT_9exuVYa1m"
      },
      "execution_count": null,
      "outputs": []
    },
    {
      "cell_type": "code",
      "source": [
        "df_base = pd.concat(df_lista, ignore_index=True)"
      ],
      "metadata": {
        "id": "1vKfWqvGrKmS"
      },
      "execution_count": null,
      "outputs": []
    },
    {
      "cell_type": "code",
      "source": [
        "df_base.shape"
      ],
      "metadata": {
        "colab": {
          "base_uri": "https://localhost:8080/"
        },
        "id": "ZAJGpH1BsKdz",
        "outputId": "f111a5d9-d878-4295-f241-4b1af4376122"
      },
      "execution_count": null,
      "outputs": [
        {
          "output_type": "execute_result",
          "data": {
            "text/plain": [
              "(91648, 38)"
            ]
          },
          "metadata": {},
          "execution_count": 141
        }
      ]
    },
    {
      "cell_type": "markdown",
      "source": [
        "Por lo cual podemos concluir, al aplicar las funciones:\n",
        "\n",
        "\n",
        "*   Cada dataset tiene una consistencia de 38 columnas.\n",
        "*   La información si corresponde con la descripción suministrada.\n",
        "*   Aunque cada dataset tiene 38 columnas, el tipo de dato no son similares en los cuatro datasets.\n",
        "*   Tenemos columnas Nans en cada dataset\n",
        "\n",
        "Para este estudio en particular sólo haremos uso de las siguientes columnas:\n",
        "\n",
        "*   Datos del titular.\n",
        "*   Ubicación geografica (Dirección).\n",
        "*   Monto de crédito autorizado.\n",
        "*   Número de telefono de contacto.\n",
        "\n",
        "Nuestro siguiente paso será eliminar todas las columnas que no serán utiles, para lo cual utilizaremos la función drop de pandas.\n",
        "La forma que emplearemos será utilizar la función columns previo, para saber exactamente los nombres de columnas a eliminar.\n",
        "\n"
      ],
      "metadata": {
        "id": "L5epxF3wwrpj"
      }
    },
    {
      "cell_type": "markdown",
      "source": [
        "Utilizamos la función columns para mostrar todas las columnas que elimaremos de cada data frame."
      ],
      "metadata": {
        "id": "wzmTpj3I5tMg"
      }
    },
    {
      "cell_type": "code",
      "source": [
        "df_base.columns"
      ],
      "metadata": {
        "id": "C4e9zSQNoLgO",
        "colab": {
          "base_uri": "https://localhost:8080/"
        },
        "outputId": "041b4c68-33be-4d9f-a835-4c998cbbb03c"
      },
      "execution_count": null,
      "outputs": [
        {
          "output_type": "execute_result",
          "data": {
            "text/plain": [
              "Index(['Unnamed: 0', 'DEL', '# CTAS', 'NOMBRE', 'F_OTORG', 'CALLE', 'COL',\n",
              "       'MUN', 'CP', 'CALLE_ALT', 'COL_ALT', 'MUN_ALT', 'CP_ALT', 'STAT',\n",
              "       'MES_SINPAG', 'ADI_ECOTEC', 'TOT_ECOELE', 'TOT_INSELE', 'AHO_OBLIG',\n",
              "       'AHO_ELEG', 'REAL_ECOTE', 'TX_LADA', 'TX_TELEFON', 'TEL_01', 'TEL_02',\n",
              "       'TEL_03', 'TEL_04', 'TEL_05', 'TEL_06', 'TEL_ORIG', 'TEL_ACT',\n",
              "       'CEL_ORIG', 'CEL_ACT', 'TRAB_ACT', 'CEL_ARC', 'CONCEPTO', 'TX_DEL',\n",
              "       'TX_DELCORT'],\n",
              "      dtype='object')"
            ]
          },
          "metadata": {},
          "execution_count": 142
        }
      ]
    },
    {
      "cell_type": "markdown",
      "source": [
        "Al tener identificadas la columnas a eliminar de cada dataset, utilizamos la función drop, con el parametro axis = 1, para indicar que serán eliminadas columnas.<br>\n",
        "Cabe señalar que dentro de estas columnas existe valores NaN, y que al eliminarlas se eliminan esos NaN que no aportan certeza a nuestro marco de estudio."
      ],
      "metadata": {
        "id": "NbT4Exxh6dol"
      }
    },
    {
      "cell_type": "code",
      "source": [
        "df_base = df_base.drop(['Unnamed: 0','DEL','F_OTORG','CALLE_ALT', 'COL_ALT', 'MUN_ALT', 'CP_ALT', 'STAT',\n",
        "       'MES_SINPAG', 'ADI_ECOTEC', 'TOT_INSELE', 'AHO_OBLIG',\n",
        "       'AHO_ELEG', 'REAL_ECOTE','TEL_01', 'TEL_02',\n",
        "       'TEL_03', 'TEL_04', 'TEL_05', 'TEL_06', 'TEL_ORIG', 'TEL_ACT',\n",
        "       'CEL_ORIG', 'CEL_ACT', 'TRAB_ACT', 'CEL_ARC', 'CONCEPTO', 'TX_DEL',\n",
        "       'TX_DELCORT'], axis = 1)\n",
        "df_base.to_csv('/content/drive/MyDrive/Proyecto_pythonProc/df_inicial.csv',encoding='utf-8')\n"
      ],
      "metadata": {
        "id": "SB-FIY_93FGg"
      },
      "execution_count": null,
      "outputs": []
    },
    {
      "cell_type": "markdown",
      "source": [
        "Con la función isnull()  en nuestro marco de datos, que nos devuelve un valor boolean, y como podemos ver, hay un valor Nan."
      ],
      "metadata": {
        "id": "38dfE6mYKrrL"
      }
    },
    {
      "cell_type": "code",
      "source": [],
      "metadata": {
        "id": "jmGrSLSNKqeg"
      },
      "execution_count": null,
      "outputs": []
    },
    {
      "cell_type": "code",
      "source": [
        "df_base.isnull().sum()"
      ],
      "metadata": {
        "colab": {
          "base_uri": "https://localhost:8080/"
        },
        "id": "bF-DsuGUGcIs",
        "outputId": "2ac83b77-6758-452b-9d64-c05a04dc4303"
      },
      "execution_count": null,
      "outputs": [
        {
          "output_type": "execute_result",
          "data": {
            "text/plain": [
              "# CTAS        0\n",
              "NOMBRE        0\n",
              "CALLE         0\n",
              "COL           1\n",
              "MUN           0\n",
              "CP            0\n",
              "TOT_ECOELE    0\n",
              "TX_LADA       0\n",
              "TX_TELEFON    0\n",
              "dtype: int64"
            ]
          },
          "metadata": {},
          "execution_count": 144
        }
      ]
    },
    {
      "cell_type": "markdown",
      "source": [
        "Visualizamos nuestro dataset, y hasta este punto, sólo hemos eliminado columnas innecesarias, y nos quedan las columnas con las que trabajeremos.\n",
        "Nuestro siguiente paso, es buscar si existen Nan dentro de cada columna o fila,\n",
        "para lo cual utilizaremos la función"
      ],
      "metadata": {
        "id": "NiDe04RT7AHl"
      }
    },
    {
      "cell_type": "code",
      "source": [
        "columnas_nulas = df_base.columns[df_base.isnull().any()]\n",
        "df_base[columnas_nulas].isnull().sum()\n",
        "print(df_base[df_base.isnull().any(axis=1)][columnas_nulas].head())\n"
      ],
      "metadata": {
        "colab": {
          "base_uri": "https://localhost:8080/"
        },
        "id": "s9fpHaSP3rll",
        "outputId": "7cadb48a-5b17-4e5b-9af4-4d533d94f359"
      },
      "execution_count": null,
      "outputs": [
        {
          "output_type": "stream",
          "name": "stdout",
          "text": [
            "       COL\n",
            "58157  NaN\n"
          ]
        }
      ]
    },
    {
      "cell_type": "markdown",
      "source": [],
      "metadata": {
        "id": "GPgCyPHAL5mf"
      }
    },
    {
      "cell_type": "markdown",
      "source": [
        "Con la función dropna, y el parametro \"any\" eliminamos ese valor NaN"
      ],
      "metadata": {
        "id": "SIg4nq2tL7a7"
      }
    },
    {
      "cell_type": "code",
      "source": [
        "df_baselimpio = df_base.dropna(how = 'any')"
      ],
      "metadata": {
        "id": "9Uhwo5kf8osn"
      },
      "execution_count": null,
      "outputs": []
    },
    {
      "cell_type": "markdown",
      "source": [
        "Nuevamente aplicamos la función isnull() y sum() para verificar la no existencia de valores NaN"
      ],
      "metadata": {
        "id": "eYhnMSjbMBeW"
      }
    },
    {
      "cell_type": "code",
      "source": [
        "df_baselimpio.isnull().sum()"
      ],
      "metadata": {
        "colab": {
          "base_uri": "https://localhost:8080/"
        },
        "id": "ywkRyPJq9x4S",
        "outputId": "807ceb31-cb37-41d3-a887-a96a84053104"
      },
      "execution_count": null,
      "outputs": [
        {
          "output_type": "execute_result",
          "data": {
            "text/plain": [
              "# CTAS        0\n",
              "NOMBRE        0\n",
              "CALLE         0\n",
              "COL           0\n",
              "MUN           0\n",
              "CP            0\n",
              "TOT_ECOELE    0\n",
              "TX_LADA       0\n",
              "TX_TELEFON    0\n",
              "dtype: int64"
            ]
          },
          "metadata": {},
          "execution_count": 147
        }
      ]
    },
    {
      "cell_type": "markdown",
      "source": [
        "Posteriormente, renombramos las columnas con la función rename(), para poder tener un análisis correcto."
      ],
      "metadata": {
        "id": "Jl4S43I2MZSu"
      }
    },
    {
      "cell_type": "code",
      "source": [
        "df_baselimpio = df_baselimpio.rename(columns={'Unnamed: 0':'CONSECUTIVO','# CTAS':'CUENTA','TOT_ECOELE':'MONTO_CREDITO','TX_LADA':'LADA','TX_TELEFON':'TELEFONO'})"
      ],
      "metadata": {
        "id": "7jJvLMIge1Yn"
      },
      "execution_count": null,
      "outputs": []
    },
    {
      "cell_type": "code",
      "source": [
        "df_baselimpio.columns"
      ],
      "metadata": {
        "colab": {
          "base_uri": "https://localhost:8080/"
        },
        "id": "dYlqPAIMiBNE",
        "outputId": "342ee550-d008-41da-ce57-9013589c0ce3"
      },
      "execution_count": null,
      "outputs": [
        {
          "output_type": "execute_result",
          "data": {
            "text/plain": [
              "Index(['CUENTA', 'NOMBRE', 'CALLE', 'COL', 'MUN', 'CP', 'MONTO_CREDITO',\n",
              "       'LADA', 'TELEFONO'],\n",
              "      dtype='object')"
            ]
          },
          "metadata": {},
          "execution_count": 149
        }
      ]
    },
    {
      "cell_type": "code",
      "source": [
        "df_baselimpio.head()"
      ],
      "metadata": {
        "id": "XZ4Lpfl1jAZE"
      },
      "execution_count": null,
      "outputs": []
    },
    {
      "cell_type": "markdown",
      "source": [
        "Verificamos con la función nunique la columna CUENTA, que será nuestro índice para validar que no tenemos valores repetidos en el número de cuenta, para tener certeza en nuestro marco de datos."
      ],
      "metadata": {
        "id": "5Pbit4-RM-ye"
      }
    },
    {
      "cell_type": "code",
      "source": [
        "df_baselimpio_object = df_baselimpio['CUENTA'].nunique()\n",
        "print(df_baselimpio_object)"
      ],
      "metadata": {
        "colab": {
          "base_uri": "https://localhost:8080/"
        },
        "id": "nX2hsvyWuyPI",
        "outputId": "27dea405-7501-44ea-b54d-526a5e6a43ad"
      },
      "execution_count": null,
      "outputs": [
        {
          "output_type": "stream",
          "name": "stdout",
          "text": [
            "91647\n"
          ]
        }
      ]
    },
    {
      "cell_type": "markdown",
      "source": [
        "Nuestro indice será el número de cuenta o crédito, ya que es único por persona, con la función set_index()"
      ],
      "metadata": {
        "id": "UdsTaFdwNPGB"
      }
    },
    {
      "cell_type": "code",
      "source": [
        "df_baselimpio = df_baselimpio.set_index(['CUENTA'],inplace = False)"
      ],
      "metadata": {
        "id": "PNIMv-ETwsCE"
      },
      "execution_count": null,
      "outputs": []
    },
    {
      "cell_type": "code",
      "source": [
        "df_baselimpio.head()"
      ],
      "metadata": {
        "colab": {
          "base_uri": "https://localhost:8080/",
          "height": 368
        },
        "id": "Q3gw3o5Txw13",
        "outputId": "579cd640-5174-46d6-9bba-53553d3e9e88"
      },
      "execution_count": null,
      "outputs": [
        {
          "output_type": "execute_result",
          "data": {
            "text/plain": [
              "                                             NOMBRE  \\\n",
              "CUENTA                                                \n",
              "911167028                      ZAVALA LOPEZ JOAQUIN   \n",
              "918143925            RAMON BUSTAMANTE AURORA RAQUEL   \n",
              "918147896  VAZQUEZ MARTINEZ DE VELASCO LOURDES REFU   \n",
              "918148280          ACEVEDO PADILLA MARTHA ESPERANZA   \n",
              "918151439                  SESILIANO MORENO CITLALI   \n",
              "\n",
              "                                              CALLE  \\\n",
              "CUENTA                                                \n",
              "911167028       FUENTE DE DALILA 22   B MZ 11 LT 11   \n",
              "918143925  CALLE 5 32   CASA 4 LT FRACC G NIV PLANT   \n",
              "918147896   CALLE LAGO ZUG 8   DEPTO A404 COND LAGO   \n",
              "918148280   PRIVADA DE BAJIO ANTES CALLE CERRADA DE   \n",
              "918151439  CALLE EMILIANO ZAPATA 174   DEPTO 401 CO   \n",
              "\n",
              "                                      COL                  MUN     CP  \\\n",
              "CUENTA                                                                  \n",
              "911167028  FUENTES DEL VALLE SEGUNDA SECC            TULTITLAN  54910   \n",
              "918143925  COLONIA SAN PEDRO DE LOS PINOS        BENITO JUAREZ   3800   \n",
              "918147896                 COLONIA LEGARIA       MIGUEL HIDALGO  11410   \n",
              "918148280                COLONIA ROMA SUR           CUAUHTEMOC   6760   \n",
              "918151439              COLONIA 10 DE MAYO  VENUSTIANO CARRANZA  15290   \n",
              "\n",
              "           MONTO_CREDITO  LADA  TELEFONO  \n",
              "CUENTA                                    \n",
              "911167028       17918.00    55  45015431  \n",
              "918143925       49004.80    55  26147088  \n",
              "918147896       49004.80    55  43527066  \n",
              "918148280       36753.60    55  55510047  \n",
              "918151439        4900.48    55  66461754  "
            ],
            "text/html": [
              "\n",
              "  <div id=\"df-a0ff40cf-640b-4b08-ac55-eafd38aa1a0c\">\n",
              "    <div class=\"colab-df-container\">\n",
              "      <div>\n",
              "<style scoped>\n",
              "    .dataframe tbody tr th:only-of-type {\n",
              "        vertical-align: middle;\n",
              "    }\n",
              "\n",
              "    .dataframe tbody tr th {\n",
              "        vertical-align: top;\n",
              "    }\n",
              "\n",
              "    .dataframe thead th {\n",
              "        text-align: right;\n",
              "    }\n",
              "</style>\n",
              "<table border=\"1\" class=\"dataframe\">\n",
              "  <thead>\n",
              "    <tr style=\"text-align: right;\">\n",
              "      <th></th>\n",
              "      <th>NOMBRE</th>\n",
              "      <th>CALLE</th>\n",
              "      <th>COL</th>\n",
              "      <th>MUN</th>\n",
              "      <th>CP</th>\n",
              "      <th>MONTO_CREDITO</th>\n",
              "      <th>LADA</th>\n",
              "      <th>TELEFONO</th>\n",
              "    </tr>\n",
              "    <tr>\n",
              "      <th>CUENTA</th>\n",
              "      <th></th>\n",
              "      <th></th>\n",
              "      <th></th>\n",
              "      <th></th>\n",
              "      <th></th>\n",
              "      <th></th>\n",
              "      <th></th>\n",
              "      <th></th>\n",
              "    </tr>\n",
              "  </thead>\n",
              "  <tbody>\n",
              "    <tr>\n",
              "      <th>911167028</th>\n",
              "      <td>ZAVALA LOPEZ JOAQUIN</td>\n",
              "      <td>FUENTE DE DALILA 22   B MZ 11 LT 11</td>\n",
              "      <td>FUENTES DEL VALLE SEGUNDA SECC</td>\n",
              "      <td>TULTITLAN</td>\n",
              "      <td>54910</td>\n",
              "      <td>17918.00</td>\n",
              "      <td>55</td>\n",
              "      <td>45015431</td>\n",
              "    </tr>\n",
              "    <tr>\n",
              "      <th>918143925</th>\n",
              "      <td>RAMON BUSTAMANTE AURORA RAQUEL</td>\n",
              "      <td>CALLE 5 32   CASA 4 LT FRACC G NIV PLANT</td>\n",
              "      <td>COLONIA SAN PEDRO DE LOS PINOS</td>\n",
              "      <td>BENITO JUAREZ</td>\n",
              "      <td>3800</td>\n",
              "      <td>49004.80</td>\n",
              "      <td>55</td>\n",
              "      <td>26147088</td>\n",
              "    </tr>\n",
              "    <tr>\n",
              "      <th>918147896</th>\n",
              "      <td>VAZQUEZ MARTINEZ DE VELASCO LOURDES REFU</td>\n",
              "      <td>CALLE LAGO ZUG 8   DEPTO A404 COND LAGO</td>\n",
              "      <td>COLONIA LEGARIA</td>\n",
              "      <td>MIGUEL HIDALGO</td>\n",
              "      <td>11410</td>\n",
              "      <td>49004.80</td>\n",
              "      <td>55</td>\n",
              "      <td>43527066</td>\n",
              "    </tr>\n",
              "    <tr>\n",
              "      <th>918148280</th>\n",
              "      <td>ACEVEDO PADILLA MARTHA ESPERANZA</td>\n",
              "      <td>PRIVADA DE BAJIO ANTES CALLE CERRADA DE</td>\n",
              "      <td>COLONIA ROMA SUR</td>\n",
              "      <td>CUAUHTEMOC</td>\n",
              "      <td>6760</td>\n",
              "      <td>36753.60</td>\n",
              "      <td>55</td>\n",
              "      <td>55510047</td>\n",
              "    </tr>\n",
              "    <tr>\n",
              "      <th>918151439</th>\n",
              "      <td>SESILIANO MORENO CITLALI</td>\n",
              "      <td>CALLE EMILIANO ZAPATA 174   DEPTO 401 CO</td>\n",
              "      <td>COLONIA 10 DE MAYO</td>\n",
              "      <td>VENUSTIANO CARRANZA</td>\n",
              "      <td>15290</td>\n",
              "      <td>4900.48</td>\n",
              "      <td>55</td>\n",
              "      <td>66461754</td>\n",
              "    </tr>\n",
              "  </tbody>\n",
              "</table>\n",
              "</div>\n",
              "      <button class=\"colab-df-convert\" onclick=\"convertToInteractive('df-a0ff40cf-640b-4b08-ac55-eafd38aa1a0c')\"\n",
              "              title=\"Convert this dataframe to an interactive table.\"\n",
              "              style=\"display:none;\">\n",
              "        \n",
              "  <svg xmlns=\"http://www.w3.org/2000/svg\" height=\"24px\"viewBox=\"0 0 24 24\"\n",
              "       width=\"24px\">\n",
              "    <path d=\"M0 0h24v24H0V0z\" fill=\"none\"/>\n",
              "    <path d=\"M18.56 5.44l.94 2.06.94-2.06 2.06-.94-2.06-.94-.94-2.06-.94 2.06-2.06.94zm-11 1L8.5 8.5l.94-2.06 2.06-.94-2.06-.94L8.5 2.5l-.94 2.06-2.06.94zm10 10l.94 2.06.94-2.06 2.06-.94-2.06-.94-.94-2.06-.94 2.06-2.06.94z\"/><path d=\"M17.41 7.96l-1.37-1.37c-.4-.4-.92-.59-1.43-.59-.52 0-1.04.2-1.43.59L10.3 9.45l-7.72 7.72c-.78.78-.78 2.05 0 2.83L4 21.41c.39.39.9.59 1.41.59.51 0 1.02-.2 1.41-.59l7.78-7.78 2.81-2.81c.8-.78.8-2.07 0-2.86zM5.41 20L4 18.59l7.72-7.72 1.47 1.35L5.41 20z\"/>\n",
              "  </svg>\n",
              "      </button>\n",
              "      \n",
              "  <style>\n",
              "    .colab-df-container {\n",
              "      display:flex;\n",
              "      flex-wrap:wrap;\n",
              "      gap: 12px;\n",
              "    }\n",
              "\n",
              "    .colab-df-convert {\n",
              "      background-color: #E8F0FE;\n",
              "      border: none;\n",
              "      border-radius: 50%;\n",
              "      cursor: pointer;\n",
              "      display: none;\n",
              "      fill: #1967D2;\n",
              "      height: 32px;\n",
              "      padding: 0 0 0 0;\n",
              "      width: 32px;\n",
              "    }\n",
              "\n",
              "    .colab-df-convert:hover {\n",
              "      background-color: #E2EBFA;\n",
              "      box-shadow: 0px 1px 2px rgba(60, 64, 67, 0.3), 0px 1px 3px 1px rgba(60, 64, 67, 0.15);\n",
              "      fill: #174EA6;\n",
              "    }\n",
              "\n",
              "    [theme=dark] .colab-df-convert {\n",
              "      background-color: #3B4455;\n",
              "      fill: #D2E3FC;\n",
              "    }\n",
              "\n",
              "    [theme=dark] .colab-df-convert:hover {\n",
              "      background-color: #434B5C;\n",
              "      box-shadow: 0px 1px 3px 1px rgba(0, 0, 0, 0.15);\n",
              "      filter: drop-shadow(0px 1px 2px rgba(0, 0, 0, 0.3));\n",
              "      fill: #FFFFFF;\n",
              "    }\n",
              "  </style>\n",
              "\n",
              "      <script>\n",
              "        const buttonEl =\n",
              "          document.querySelector('#df-a0ff40cf-640b-4b08-ac55-eafd38aa1a0c button.colab-df-convert');\n",
              "        buttonEl.style.display =\n",
              "          google.colab.kernel.accessAllowed ? 'block' : 'none';\n",
              "\n",
              "        async function convertToInteractive(key) {\n",
              "          const element = document.querySelector('#df-a0ff40cf-640b-4b08-ac55-eafd38aa1a0c');\n",
              "          const dataTable =\n",
              "            await google.colab.kernel.invokeFunction('convertToInteractive',\n",
              "                                                     [key], {});\n",
              "          if (!dataTable) return;\n",
              "\n",
              "          const docLinkHtml = 'Like what you see? Visit the ' +\n",
              "            '<a target=\"_blank\" href=https://colab.research.google.com/notebooks/data_table.ipynb>data table notebook</a>'\n",
              "            + ' to learn more about interactive tables.';\n",
              "          element.innerHTML = '';\n",
              "          dataTable['output_type'] = 'display_data';\n",
              "          await google.colab.output.renderOutput(dataTable, element);\n",
              "          const docLink = document.createElement('div');\n",
              "          docLink.innerHTML = docLinkHtml;\n",
              "          element.appendChild(docLink);\n",
              "        }\n",
              "      </script>\n",
              "    </div>\n",
              "  </div>\n",
              "  "
            ]
          },
          "metadata": {},
          "execution_count": 153
        }
      ]
    },
    {
      "cell_type": "markdown",
      "source": [
        "Verificamos con la función dtpyes los tipos de datos, y el único valor número para nuestro análisis es \"MONTO_CREDITO\", las demas columnas tendrían que ser \"object\""
      ],
      "metadata": {
        "id": "9Zbm3vruNiDP"
      }
    },
    {
      "cell_type": "code",
      "source": [
        "df_baselimpio.dtypes"
      ],
      "metadata": {
        "colab": {
          "base_uri": "https://localhost:8080/"
        },
        "id": "5tvlllA61Xfk",
        "outputId": "88ebe301-3bb9-401c-d558-06b16e81e0f8"
      },
      "execution_count": null,
      "outputs": [
        {
          "output_type": "execute_result",
          "data": {
            "text/plain": [
              "NOMBRE            object\n",
              "CALLE             object\n",
              "COL               object\n",
              "MUN               object\n",
              "CP                 int64\n",
              "MONTO_CREDITO    float64\n",
              "LADA               int64\n",
              "TELEFONO           int64\n",
              "dtype: object"
            ]
          },
          "metadata": {},
          "execution_count": 156
        }
      ]
    },
    {
      "cell_type": "code",
      "source": [
        "df_baselimpio.tail()"
      ],
      "metadata": {
        "colab": {
          "base_uri": "https://localhost:8080/",
          "height": 368
        },
        "id": "hBO3PUod2a1f",
        "outputId": "59b188df-5e5f-4887-fe00-caf622f03950"
      },
      "execution_count": null,
      "outputs": [
        {
          "output_type": "execute_result",
          "data": {
            "text/plain": [
              "                                       NOMBRE  \\\n",
              "CUENTA                                          \n",
              "2220092750            TIRADO MACIAS ALEJANDRO   \n",
              "2220092875        PEREZ LEDEZMA MARIA EBELINA   \n",
              "2220093385        SOSA REYES SERGIO ALEJANDRO   \n",
              "2220093993           PRADO AMARO FRANKY ASAEL   \n",
              "2220095593  GUTIERREZ BALDERAS AURORA BETSABE   \n",
              "\n",
              "                                               CALLE  \\\n",
              "CUENTA                                                 \n",
              "2220092750  CIRRUS 308   59 MZ 8 LT 38 COND CONDOMIN   \n",
              "2220092875  CIRRUS 305   7 MZ 7 LT 3 COND CONDOMINIO   \n",
              "2220093385  CIRRUS 301   36 MZ 7 LT 5 COND CONDOMINI   \n",
              "2220093993  AVENIDA MARQUES DE MONTEMAYOR 602   96 M   \n",
              "2220095593  CIRRUS 301   41 MZ 7 LT 5 COND CONDOMINI   \n",
              "\n",
              "                                       COL          MUN     CP  MONTO_CREDITO  \\\n",
              "CUENTA                                                                          \n",
              "2220092750     FRACCIONAMIENTO REAL SOLARE  MARQUES, EL  76246        5334.00   \n",
              "2220092875     FRACCIONAMIENTO REAL SOLARE  MARQUES, EL  76246       10701.00   \n",
              "2220093385                   REAL SOLARE 3  MARQUES, EL  76246        4039.00   \n",
              "2220093993  FRACCIONAMIENTO REAL DEL MARQU    QUERETARO  76118       34334.97   \n",
              "2220095593                   REAL SOLARE 3  MARQUES, EL  76246        4039.00   \n",
              "\n",
              "            LADA  TELEFONO  \n",
              "CUENTA                      \n",
              "2220092750    55  27317857  \n",
              "2220092875   442   7485731  \n",
              "2220093385   442   1026413  \n",
              "2220093993   735   1983584  \n",
              "2220095593   777   1063809  "
            ],
            "text/html": [
              "\n",
              "  <div id=\"df-8e461f0a-f76b-4a86-9a90-f6fc161521be\">\n",
              "    <div class=\"colab-df-container\">\n",
              "      <div>\n",
              "<style scoped>\n",
              "    .dataframe tbody tr th:only-of-type {\n",
              "        vertical-align: middle;\n",
              "    }\n",
              "\n",
              "    .dataframe tbody tr th {\n",
              "        vertical-align: top;\n",
              "    }\n",
              "\n",
              "    .dataframe thead th {\n",
              "        text-align: right;\n",
              "    }\n",
              "</style>\n",
              "<table border=\"1\" class=\"dataframe\">\n",
              "  <thead>\n",
              "    <tr style=\"text-align: right;\">\n",
              "      <th></th>\n",
              "      <th>NOMBRE</th>\n",
              "      <th>CALLE</th>\n",
              "      <th>COL</th>\n",
              "      <th>MUN</th>\n",
              "      <th>CP</th>\n",
              "      <th>MONTO_CREDITO</th>\n",
              "      <th>LADA</th>\n",
              "      <th>TELEFONO</th>\n",
              "    </tr>\n",
              "    <tr>\n",
              "      <th>CUENTA</th>\n",
              "      <th></th>\n",
              "      <th></th>\n",
              "      <th></th>\n",
              "      <th></th>\n",
              "      <th></th>\n",
              "      <th></th>\n",
              "      <th></th>\n",
              "      <th></th>\n",
              "    </tr>\n",
              "  </thead>\n",
              "  <tbody>\n",
              "    <tr>\n",
              "      <th>2220092750</th>\n",
              "      <td>TIRADO MACIAS ALEJANDRO</td>\n",
              "      <td>CIRRUS 308   59 MZ 8 LT 38 COND CONDOMIN</td>\n",
              "      <td>FRACCIONAMIENTO REAL SOLARE</td>\n",
              "      <td>MARQUES, EL</td>\n",
              "      <td>76246</td>\n",
              "      <td>5334.00</td>\n",
              "      <td>55</td>\n",
              "      <td>27317857</td>\n",
              "    </tr>\n",
              "    <tr>\n",
              "      <th>2220092875</th>\n",
              "      <td>PEREZ LEDEZMA MARIA EBELINA</td>\n",
              "      <td>CIRRUS 305   7 MZ 7 LT 3 COND CONDOMINIO</td>\n",
              "      <td>FRACCIONAMIENTO REAL SOLARE</td>\n",
              "      <td>MARQUES, EL</td>\n",
              "      <td>76246</td>\n",
              "      <td>10701.00</td>\n",
              "      <td>442</td>\n",
              "      <td>7485731</td>\n",
              "    </tr>\n",
              "    <tr>\n",
              "      <th>2220093385</th>\n",
              "      <td>SOSA REYES SERGIO ALEJANDRO</td>\n",
              "      <td>CIRRUS 301   36 MZ 7 LT 5 COND CONDOMINI</td>\n",
              "      <td>REAL SOLARE 3</td>\n",
              "      <td>MARQUES, EL</td>\n",
              "      <td>76246</td>\n",
              "      <td>4039.00</td>\n",
              "      <td>442</td>\n",
              "      <td>1026413</td>\n",
              "    </tr>\n",
              "    <tr>\n",
              "      <th>2220093993</th>\n",
              "      <td>PRADO AMARO FRANKY ASAEL</td>\n",
              "      <td>AVENIDA MARQUES DE MONTEMAYOR 602   96 M</td>\n",
              "      <td>FRACCIONAMIENTO REAL DEL MARQU</td>\n",
              "      <td>QUERETARO</td>\n",
              "      <td>76118</td>\n",
              "      <td>34334.97</td>\n",
              "      <td>735</td>\n",
              "      <td>1983584</td>\n",
              "    </tr>\n",
              "    <tr>\n",
              "      <th>2220095593</th>\n",
              "      <td>GUTIERREZ BALDERAS AURORA BETSABE</td>\n",
              "      <td>CIRRUS 301   41 MZ 7 LT 5 COND CONDOMINI</td>\n",
              "      <td>REAL SOLARE 3</td>\n",
              "      <td>MARQUES, EL</td>\n",
              "      <td>76246</td>\n",
              "      <td>4039.00</td>\n",
              "      <td>777</td>\n",
              "      <td>1063809</td>\n",
              "    </tr>\n",
              "  </tbody>\n",
              "</table>\n",
              "</div>\n",
              "      <button class=\"colab-df-convert\" onclick=\"convertToInteractive('df-8e461f0a-f76b-4a86-9a90-f6fc161521be')\"\n",
              "              title=\"Convert this dataframe to an interactive table.\"\n",
              "              style=\"display:none;\">\n",
              "        \n",
              "  <svg xmlns=\"http://www.w3.org/2000/svg\" height=\"24px\"viewBox=\"0 0 24 24\"\n",
              "       width=\"24px\">\n",
              "    <path d=\"M0 0h24v24H0V0z\" fill=\"none\"/>\n",
              "    <path d=\"M18.56 5.44l.94 2.06.94-2.06 2.06-.94-2.06-.94-.94-2.06-.94 2.06-2.06.94zm-11 1L8.5 8.5l.94-2.06 2.06-.94-2.06-.94L8.5 2.5l-.94 2.06-2.06.94zm10 10l.94 2.06.94-2.06 2.06-.94-2.06-.94-.94-2.06-.94 2.06-2.06.94z\"/><path d=\"M17.41 7.96l-1.37-1.37c-.4-.4-.92-.59-1.43-.59-.52 0-1.04.2-1.43.59L10.3 9.45l-7.72 7.72c-.78.78-.78 2.05 0 2.83L4 21.41c.39.39.9.59 1.41.59.51 0 1.02-.2 1.41-.59l7.78-7.78 2.81-2.81c.8-.78.8-2.07 0-2.86zM5.41 20L4 18.59l7.72-7.72 1.47 1.35L5.41 20z\"/>\n",
              "  </svg>\n",
              "      </button>\n",
              "      \n",
              "  <style>\n",
              "    .colab-df-container {\n",
              "      display:flex;\n",
              "      flex-wrap:wrap;\n",
              "      gap: 12px;\n",
              "    }\n",
              "\n",
              "    .colab-df-convert {\n",
              "      background-color: #E8F0FE;\n",
              "      border: none;\n",
              "      border-radius: 50%;\n",
              "      cursor: pointer;\n",
              "      display: none;\n",
              "      fill: #1967D2;\n",
              "      height: 32px;\n",
              "      padding: 0 0 0 0;\n",
              "      width: 32px;\n",
              "    }\n",
              "\n",
              "    .colab-df-convert:hover {\n",
              "      background-color: #E2EBFA;\n",
              "      box-shadow: 0px 1px 2px rgba(60, 64, 67, 0.3), 0px 1px 3px 1px rgba(60, 64, 67, 0.15);\n",
              "      fill: #174EA6;\n",
              "    }\n",
              "\n",
              "    [theme=dark] .colab-df-convert {\n",
              "      background-color: #3B4455;\n",
              "      fill: #D2E3FC;\n",
              "    }\n",
              "\n",
              "    [theme=dark] .colab-df-convert:hover {\n",
              "      background-color: #434B5C;\n",
              "      box-shadow: 0px 1px 3px 1px rgba(0, 0, 0, 0.15);\n",
              "      filter: drop-shadow(0px 1px 2px rgba(0, 0, 0, 0.3));\n",
              "      fill: #FFFFFF;\n",
              "    }\n",
              "  </style>\n",
              "\n",
              "      <script>\n",
              "        const buttonEl =\n",
              "          document.querySelector('#df-8e461f0a-f76b-4a86-9a90-f6fc161521be button.colab-df-convert');\n",
              "        buttonEl.style.display =\n",
              "          google.colab.kernel.accessAllowed ? 'block' : 'none';\n",
              "\n",
              "        async function convertToInteractive(key) {\n",
              "          const element = document.querySelector('#df-8e461f0a-f76b-4a86-9a90-f6fc161521be');\n",
              "          const dataTable =\n",
              "            await google.colab.kernel.invokeFunction('convertToInteractive',\n",
              "                                                     [key], {});\n",
              "          if (!dataTable) return;\n",
              "\n",
              "          const docLinkHtml = 'Like what you see? Visit the ' +\n",
              "            '<a target=\"_blank\" href=https://colab.research.google.com/notebooks/data_table.ipynb>data table notebook</a>'\n",
              "            + ' to learn more about interactive tables.';\n",
              "          element.innerHTML = '';\n",
              "          dataTable['output_type'] = 'display_data';\n",
              "          await google.colab.output.renderOutput(dataTable, element);\n",
              "          const docLink = document.createElement('div');\n",
              "          docLink.innerHTML = docLinkHtml;\n",
              "          element.appendChild(docLink);\n",
              "        }\n",
              "      </script>\n",
              "    </div>\n",
              "  </div>\n",
              "  "
            ]
          },
          "metadata": {},
          "execution_count": 157
        }
      ]
    },
    {
      "cell_type": "code",
      "source": [],
      "metadata": {
        "id": "AA0UA6MKN9sQ"
      },
      "execution_count": null,
      "outputs": []
    },
    {
      "cell_type": "markdown",
      "source": [
        "Con la función astype() realizamos un coerce de las columnas, para cambiarlos correctamente.\n",
        "Y con esto tenemos listo nuestro dataframe.\n",
        "\n",
        "Hasta este punto no hemos utilizado funciones lambda, concatenación de columnas, funciones,\n",
        "Esto lo ocuparemos cuando iniciemos a integrar con las demas fuentes de datos y variables para probar la hipótesis anexa a este documento.\n",
        "\n",
        "Los datos son reales y el caso de estudio es real, la empresa por cuestión de confidencialidad no la nombro, sin embargo, se realizarón tres visitas a la empresa para escuchar las necesidades de la empresa que quedan plasmadas en los dos objetivos arriba señalados, así como la hipótesis a probar y con esto aplicar los conceptos de dataScience"
      ],
      "metadata": {
        "id": "Ac_Y-jViOAla"
      }
    },
    {
      "cell_type": "code",
      "source": [
        "df_baselimpio = df_baselimpio.astype({'CP':'object','LADA':'object','TELEFONO':'object'})"
      ],
      "metadata": {
        "id": "i6002UR2A7Kx"
      },
      "execution_count": null,
      "outputs": []
    },
    {
      "cell_type": "code",
      "source": [
        "df_baselimpio.dtypes"
      ],
      "metadata": {
        "colab": {
          "base_uri": "https://localhost:8080/"
        },
        "id": "Pmnb3LnLBgUr",
        "outputId": "92c4761d-3b6b-4733-fa81-26f4a322e3aa"
      },
      "execution_count": null,
      "outputs": [
        {
          "output_type": "execute_result",
          "data": {
            "text/plain": [
              "NOMBRE            object\n",
              "CALLE             object\n",
              "COL               object\n",
              "MUN               object\n",
              "CP                object\n",
              "MONTO_CREDITO    float64\n",
              "LADA              object\n",
              "TELEFONO          object\n",
              "dtype: object"
            ]
          },
          "metadata": {},
          "execution_count": 160
        }
      ]
    }
  ]
}